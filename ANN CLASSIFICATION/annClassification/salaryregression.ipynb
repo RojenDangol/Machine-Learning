{
 "cells": [
  {
   "cell_type": "code",
   "execution_count": 11,
   "id": "1a9f73a1",
   "metadata": {},
   "outputs": [],
   "source": [
    "import pandas as pd\n",
    "from sklearn.preprocessing import LabelEncoder, OneHotEncoder, StandardScaler\n",
    "from sklearn.model_selection import train_test_split\n",
    "import pickle"
   ]
  },
  {
   "cell_type": "code",
   "execution_count": 12,
   "id": "47dcc943",
   "metadata": {},
   "outputs": [
    {
     "data": {
      "text/html": [
       "<div>\n",
       "<style scoped>\n",
       "    .dataframe tbody tr th:only-of-type {\n",
       "        vertical-align: middle;\n",
       "    }\n",
       "\n",
       "    .dataframe tbody tr th {\n",
       "        vertical-align: top;\n",
       "    }\n",
       "\n",
       "    .dataframe thead th {\n",
       "        text-align: right;\n",
       "    }\n",
       "</style>\n",
       "<table border=\"1\" class=\"dataframe\">\n",
       "  <thead>\n",
       "    <tr style=\"text-align: right;\">\n",
       "      <th></th>\n",
       "      <th>RowNumber</th>\n",
       "      <th>CustomerId</th>\n",
       "      <th>Surname</th>\n",
       "      <th>CreditScore</th>\n",
       "      <th>Geography</th>\n",
       "      <th>Gender</th>\n",
       "      <th>Age</th>\n",
       "      <th>Tenure</th>\n",
       "      <th>Balance</th>\n",
       "      <th>NumOfProducts</th>\n",
       "      <th>HasCrCard</th>\n",
       "      <th>IsActiveMember</th>\n",
       "      <th>EstimatedSalary</th>\n",
       "      <th>Exited</th>\n",
       "    </tr>\n",
       "  </thead>\n",
       "  <tbody>\n",
       "    <tr>\n",
       "      <th>0</th>\n",
       "      <td>1</td>\n",
       "      <td>15634602</td>\n",
       "      <td>Hargrave</td>\n",
       "      <td>619</td>\n",
       "      <td>France</td>\n",
       "      <td>Female</td>\n",
       "      <td>42</td>\n",
       "      <td>2</td>\n",
       "      <td>0.00</td>\n",
       "      <td>1</td>\n",
       "      <td>1</td>\n",
       "      <td>1</td>\n",
       "      <td>101348.88</td>\n",
       "      <td>1</td>\n",
       "    </tr>\n",
       "    <tr>\n",
       "      <th>1</th>\n",
       "      <td>2</td>\n",
       "      <td>15647311</td>\n",
       "      <td>Hill</td>\n",
       "      <td>608</td>\n",
       "      <td>Spain</td>\n",
       "      <td>Female</td>\n",
       "      <td>41</td>\n",
       "      <td>1</td>\n",
       "      <td>83807.86</td>\n",
       "      <td>1</td>\n",
       "      <td>0</td>\n",
       "      <td>1</td>\n",
       "      <td>112542.58</td>\n",
       "      <td>0</td>\n",
       "    </tr>\n",
       "    <tr>\n",
       "      <th>2</th>\n",
       "      <td>3</td>\n",
       "      <td>15619304</td>\n",
       "      <td>Onio</td>\n",
       "      <td>502</td>\n",
       "      <td>France</td>\n",
       "      <td>Female</td>\n",
       "      <td>42</td>\n",
       "      <td>8</td>\n",
       "      <td>159660.80</td>\n",
       "      <td>3</td>\n",
       "      <td>1</td>\n",
       "      <td>0</td>\n",
       "      <td>113931.57</td>\n",
       "      <td>1</td>\n",
       "    </tr>\n",
       "    <tr>\n",
       "      <th>3</th>\n",
       "      <td>4</td>\n",
       "      <td>15701354</td>\n",
       "      <td>Boni</td>\n",
       "      <td>699</td>\n",
       "      <td>France</td>\n",
       "      <td>Female</td>\n",
       "      <td>39</td>\n",
       "      <td>1</td>\n",
       "      <td>0.00</td>\n",
       "      <td>2</td>\n",
       "      <td>0</td>\n",
       "      <td>0</td>\n",
       "      <td>93826.63</td>\n",
       "      <td>0</td>\n",
       "    </tr>\n",
       "    <tr>\n",
       "      <th>4</th>\n",
       "      <td>5</td>\n",
       "      <td>15737888</td>\n",
       "      <td>Mitchell</td>\n",
       "      <td>850</td>\n",
       "      <td>Spain</td>\n",
       "      <td>Female</td>\n",
       "      <td>43</td>\n",
       "      <td>2</td>\n",
       "      <td>125510.82</td>\n",
       "      <td>1</td>\n",
       "      <td>1</td>\n",
       "      <td>1</td>\n",
       "      <td>79084.10</td>\n",
       "      <td>0</td>\n",
       "    </tr>\n",
       "  </tbody>\n",
       "</table>\n",
       "</div>"
      ],
      "text/plain": [
       "   RowNumber  CustomerId   Surname  ...  IsActiveMember EstimatedSalary Exited\n",
       "0          1    15634602  Hargrave  ...               1       101348.88      1\n",
       "1          2    15647311      Hill  ...               1       112542.58      0\n",
       "2          3    15619304      Onio  ...               0       113931.57      1\n",
       "3          4    15701354      Boni  ...               0        93826.63      0\n",
       "4          5    15737888  Mitchell  ...               1        79084.10      0\n",
       "\n",
       "[5 rows x 14 columns]"
      ]
     },
     "execution_count": 12,
     "metadata": {},
     "output_type": "execute_result"
    }
   ],
   "source": [
    "data = pd.read_csv('Churn_Modelling.csv')\n",
    "data.head()"
   ]
  },
  {
   "cell_type": "code",
   "execution_count": 13,
   "id": "2bff49bc",
   "metadata": {},
   "outputs": [],
   "source": [
    "data = data.drop(['RowNumber', 'CustomerId', 'Surname'], axis=1)"
   ]
  },
  {
   "cell_type": "code",
   "execution_count": 14,
   "id": "eba43061",
   "metadata": {},
   "outputs": [],
   "source": [
    "label_encoder_gender = LabelEncoder()\n",
    "data['Gender'] = label_encoder_gender.fit_transform(data['Gender'])"
   ]
  },
  {
   "cell_type": "code",
   "execution_count": null,
   "id": "32f06a67",
   "metadata": {},
   "outputs": [],
   "source": [
    "onehot_encoder_geo = OneHotEncoder(handle_unknown='ignore')\n",
    "geo_encoded = onehot_encoder_geo.fit_transform(data[['Geography']]).toarray()\n",
    "geo_encoded_df = pd.DataFrame(geo_encoded, columns=onehot_encoder_geo.get_feature_names_out(['Geography']))"
   ]
  },
  {
   "cell_type": "code",
   "execution_count": 16,
   "id": "70fba34c",
   "metadata": {},
   "outputs": [
    {
     "data": {
      "text/html": [
       "<div>\n",
       "<style scoped>\n",
       "    .dataframe tbody tr th:only-of-type {\n",
       "        vertical-align: middle;\n",
       "    }\n",
       "\n",
       "    .dataframe tbody tr th {\n",
       "        vertical-align: top;\n",
       "    }\n",
       "\n",
       "    .dataframe thead th {\n",
       "        text-align: right;\n",
       "    }\n",
       "</style>\n",
       "<table border=\"1\" class=\"dataframe\">\n",
       "  <thead>\n",
       "    <tr style=\"text-align: right;\">\n",
       "      <th></th>\n",
       "      <th>CreditScore</th>\n",
       "      <th>Gender</th>\n",
       "      <th>Age</th>\n",
       "      <th>Tenure</th>\n",
       "      <th>Balance</th>\n",
       "      <th>NumOfProducts</th>\n",
       "      <th>HasCrCard</th>\n",
       "      <th>IsActiveMember</th>\n",
       "      <th>EstimatedSalary</th>\n",
       "      <th>Exited</th>\n",
       "      <th>Geography_France</th>\n",
       "      <th>Geography_Germany</th>\n",
       "      <th>Geography_Spain</th>\n",
       "    </tr>\n",
       "  </thead>\n",
       "  <tbody>\n",
       "    <tr>\n",
       "      <th>0</th>\n",
       "      <td>619</td>\n",
       "      <td>0</td>\n",
       "      <td>42</td>\n",
       "      <td>2</td>\n",
       "      <td>0.00</td>\n",
       "      <td>1</td>\n",
       "      <td>1</td>\n",
       "      <td>1</td>\n",
       "      <td>101348.88</td>\n",
       "      <td>1</td>\n",
       "      <td>1.0</td>\n",
       "      <td>0.0</td>\n",
       "      <td>0.0</td>\n",
       "    </tr>\n",
       "    <tr>\n",
       "      <th>1</th>\n",
       "      <td>608</td>\n",
       "      <td>0</td>\n",
       "      <td>41</td>\n",
       "      <td>1</td>\n",
       "      <td>83807.86</td>\n",
       "      <td>1</td>\n",
       "      <td>0</td>\n",
       "      <td>1</td>\n",
       "      <td>112542.58</td>\n",
       "      <td>0</td>\n",
       "      <td>0.0</td>\n",
       "      <td>0.0</td>\n",
       "      <td>1.0</td>\n",
       "    </tr>\n",
       "    <tr>\n",
       "      <th>2</th>\n",
       "      <td>502</td>\n",
       "      <td>0</td>\n",
       "      <td>42</td>\n",
       "      <td>8</td>\n",
       "      <td>159660.80</td>\n",
       "      <td>3</td>\n",
       "      <td>1</td>\n",
       "      <td>0</td>\n",
       "      <td>113931.57</td>\n",
       "      <td>1</td>\n",
       "      <td>1.0</td>\n",
       "      <td>0.0</td>\n",
       "      <td>0.0</td>\n",
       "    </tr>\n",
       "    <tr>\n",
       "      <th>3</th>\n",
       "      <td>699</td>\n",
       "      <td>0</td>\n",
       "      <td>39</td>\n",
       "      <td>1</td>\n",
       "      <td>0.00</td>\n",
       "      <td>2</td>\n",
       "      <td>0</td>\n",
       "      <td>0</td>\n",
       "      <td>93826.63</td>\n",
       "      <td>0</td>\n",
       "      <td>1.0</td>\n",
       "      <td>0.0</td>\n",
       "      <td>0.0</td>\n",
       "    </tr>\n",
       "    <tr>\n",
       "      <th>4</th>\n",
       "      <td>850</td>\n",
       "      <td>0</td>\n",
       "      <td>43</td>\n",
       "      <td>2</td>\n",
       "      <td>125510.82</td>\n",
       "      <td>1</td>\n",
       "      <td>1</td>\n",
       "      <td>1</td>\n",
       "      <td>79084.10</td>\n",
       "      <td>0</td>\n",
       "      <td>0.0</td>\n",
       "      <td>0.0</td>\n",
       "      <td>1.0</td>\n",
       "    </tr>\n",
       "  </tbody>\n",
       "</table>\n",
       "</div>"
      ],
      "text/plain": [
       "   CreditScore  Gender  ...  Geography_Germany  Geography_Spain\n",
       "0          619       0  ...                0.0              0.0\n",
       "1          608       0  ...                0.0              1.0\n",
       "2          502       0  ...                0.0              0.0\n",
       "3          699       0  ...                0.0              0.0\n",
       "4          850       0  ...                0.0              1.0\n",
       "\n",
       "[5 rows x 13 columns]"
      ]
     },
     "execution_count": 16,
     "metadata": {},
     "output_type": "execute_result"
    }
   ],
   "source": [
    "data = pd.concat([data.drop('Geography', axis=1), geo_encoded_df], axis=1)\n",
    "data.head()"
   ]
  },
  {
   "cell_type": "code",
   "execution_count": 17,
   "id": "b37a267c",
   "metadata": {},
   "outputs": [],
   "source": [
    "X = data.drop('EstimatedSalary', axis=1)\n",
    "y = data['EstimatedSalary']"
   ]
  },
  {
   "cell_type": "code",
   "execution_count": 18,
   "id": "6d6cf836",
   "metadata": {},
   "outputs": [],
   "source": [
    "#  Split the data in training and testing sets\n",
    "X_train, X_test, y_train, y_test = train_test_split(X, y, test_size=0.2, random_state=42)"
   ]
  },
  {
   "cell_type": "code",
   "execution_count": 19,
   "id": "2a0ee868",
   "metadata": {},
   "outputs": [],
   "source": [
    "# Scale the features\n",
    "scaler = StandardScaler()\n",
    "X_train = scaler.fit_transform(X_train)\n",
    "X_test = scaler.transform(X_test)"
   ]
  },
  {
   "cell_type": "code",
   "execution_count": 20,
   "id": "8a75e779",
   "metadata": {},
   "outputs": [],
   "source": [
    "# Save the enocders and scaler\n",
    "with open('label_encoder_gender.pkl','wb') as file:\n",
    "    pickle.dump(label_encoder_gender, file)\n",
    "\n",
    "with open('onehot_encoder_geo.pkl', 'wb') as file:\n",
    "    pickle.dump(onehot_encoder_geo, file)\n",
    "\n",
    "with open('scaler.pkl', 'wb') as file:\n",
    "    pickle.dump(scaler, file)"
   ]
  },
  {
   "cell_type": "markdown",
   "id": "3c57527d",
   "metadata": {},
   "source": [
    "## ANN Regression Problem Statement"
   ]
  },
  {
   "cell_type": "code",
   "execution_count": 21,
   "id": "f19e352c",
   "metadata": {},
   "outputs": [],
   "source": [
    "import tensorflow as tf\n",
    "from tensorflow.keras.models import Sequential\n",
    "from tensorflow.keras.layers import Dense"
   ]
  },
  {
   "cell_type": "code",
   "execution_count": 22,
   "id": "66b3a53b",
   "metadata": {},
   "outputs": [
    {
     "name": "stdout",
     "output_type": "stream",
     "text": [
      "WARNING:tensorflow:From f:\\MachineLearning\\ANN CLASSIFICATION\\venv\\Lib\\site-packages\\keras\\src\\backend.py:873: The name tf.get_default_graph is deprecated. Please use tf.compat.v1.get_default_graph instead.\n",
      "\n",
      "WARNING:tensorflow:From f:\\MachineLearning\\ANN CLASSIFICATION\\venv\\Lib\\site-packages\\keras\\src\\optimizers\\__init__.py:309: The name tf.train.Optimizer is deprecated. Please use tf.compat.v1.train.Optimizer instead.\n",
      "\n",
      "Model: \"sequential\"\n",
      "_________________________________________________________________\n",
      " Layer (type)                Output Shape              Param #   \n",
      "=================================================================\n",
      " dense (Dense)               (None, 64)                832       \n",
      "                                                                 \n",
      " dense_1 (Dense)             (None, 32)                2080      \n",
      "                                                                 \n",
      " dense_2 (Dense)             (None, 1)                 33        \n",
      "                                                                 \n",
      "=================================================================\n",
      "Total params: 2945 (11.50 KB)\n",
      "Trainable params: 2945 (11.50 KB)\n",
      "Non-trainable params: 0 (0.00 Byte)\n",
      "_________________________________________________________________\n"
     ]
    }
   ],
   "source": [
    "# Build Our ANN model\n",
    "model = Sequential([\n",
    "    Dense(64, activation='relu', input_shape=(X_train.shape[1],)), # HL1 connected with input layer\n",
    "    Dense(32, activation='relu'), # HL2\n",
    "    Dense(1) # Output layer for regression default activation is linear\n",
    "]\n",
    ")\n",
    "\n",
    "# Compile the model\n",
    "model.compile(optimizer='adam', loss='mean_absolute_error', metrics=['mae'])\n",
    "\n",
    "model.summary()"
   ]
  },
  {
   "cell_type": "code",
   "execution_count": 23,
   "id": "04f031be",
   "metadata": {},
   "outputs": [],
   "source": [
    "from tensorflow.keras.callbacks import EarlyStopping, TensorBoard\n",
    "import datetime\n",
    "# Set up the Tensorboard\n",
    "\n",
    "log_dir = \"regressionlogs/fit/\" + datetime.datetime.now().strftime(\"%Y%m%d-%H%M%S\")\n",
    "tensorflow_callback = TensorBoard(log_dir=log_dir, histogram_freq=1)"
   ]
  },
  {
   "cell_type": "code",
   "execution_count": 24,
   "id": "fb14b2da",
   "metadata": {},
   "outputs": [],
   "source": [
    "# Set up early stopping\n",
    "early_stopping_callback = EarlyStopping(monitor='val_loss', patience=10, restore_best_weights=True)"
   ]
  },
  {
   "cell_type": "code",
   "execution_count": 25,
   "id": "a1d4e5c4",
   "metadata": {},
   "outputs": [
    {
     "name": "stdout",
     "output_type": "stream",
     "text": [
      "Epoch 1/100\n",
      "WARNING:tensorflow:From f:\\MachineLearning\\ANN CLASSIFICATION\\venv\\Lib\\site-packages\\keras\\src\\utils\\tf_utils.py:492: The name tf.ragged.RaggedTensorValue is deprecated. Please use tf.compat.v1.ragged.RaggedTensorValue instead.\n",
      "\n",
      "WARNING:tensorflow:From f:\\MachineLearning\\ANN CLASSIFICATION\\venv\\Lib\\site-packages\\keras\\src\\engine\\base_layer_utils.py:384: The name tf.executing_eagerly_outside_functions is deprecated. Please use tf.compat.v1.executing_eagerly_outside_functions instead.\n",
      "\n",
      "250/250 [==============================] - 3s 7ms/step - loss: 100384.9531 - mae: 100384.9531 - val_loss: 98542.8047 - val_mae: 98542.8047\n",
      "Epoch 2/100\n",
      "250/250 [==============================] - 1s 4ms/step - loss: 99712.2969 - mae: 99712.2969 - val_loss: 97178.9844 - val_mae: 97178.9844\n",
      "Epoch 3/100\n",
      "250/250 [==============================] - 1s 6ms/step - loss: 97311.0234 - mae: 97311.0234 - val_loss: 93659.5859 - val_mae: 93659.5859\n",
      "Epoch 4/100\n",
      "250/250 [==============================] - 1s 4ms/step - loss: 92574.0938 - mae: 92574.0938 - val_loss: 87766.1250 - val_mae: 87766.1250\n",
      "Epoch 5/100\n",
      "250/250 [==============================] - 1s 4ms/step - loss: 85587.3047 - mae: 85587.3047 - val_loss: 80043.1484 - val_mae: 80043.1484\n",
      "Epoch 6/100\n",
      "250/250 [==============================] - 2s 7ms/step - loss: 77225.5781 - mae: 77225.5781 - val_loss: 71595.3906 - val_mae: 71595.3906\n",
      "Epoch 7/100\n",
      "250/250 [==============================] - 3s 11ms/step - loss: 68728.9531 - mae: 68728.9531 - val_loss: 63853.2148 - val_mae: 63853.2148\n",
      "Epoch 8/100\n",
      "250/250 [==============================] - 2s 7ms/step - loss: 61444.8008 - mae: 61444.8008 - val_loss: 57842.3711 - val_mae: 57842.3711\n",
      "Epoch 9/100\n",
      "250/250 [==============================] - 2s 6ms/step - loss: 56160.0625 - mae: 56160.0625 - val_loss: 53885.5234 - val_mae: 53885.5234\n",
      "Epoch 10/100\n",
      "250/250 [==============================] - 1s 4ms/step - loss: 52876.3086 - mae: 52876.3086 - val_loss: 51777.9531 - val_mae: 51777.9531\n",
      "Epoch 11/100\n",
      "250/250 [==============================] - 1s 4ms/step - loss: 51214.6562 - mae: 51214.6562 - val_loss: 50933.1328 - val_mae: 50933.1328\n",
      "Epoch 12/100\n",
      "250/250 [==============================] - 1s 5ms/step - loss: 50512.5977 - mae: 50512.5977 - val_loss: 50657.2969 - val_mae: 50657.2969\n",
      "Epoch 13/100\n",
      "250/250 [==============================] - 1s 4ms/step - loss: 50231.7227 - mae: 50231.7227 - val_loss: 50561.4844 - val_mae: 50561.4844\n",
      "Epoch 14/100\n",
      "250/250 [==============================] - 1s 4ms/step - loss: 50120.2031 - mae: 50120.2031 - val_loss: 50531.5156 - val_mae: 50531.5156\n",
      "Epoch 15/100\n",
      "250/250 [==============================] - 1s 4ms/step - loss: 50059.7227 - mae: 50059.7227 - val_loss: 50519.1953 - val_mae: 50519.1953\n",
      "Epoch 16/100\n",
      "250/250 [==============================] - 1s 4ms/step - loss: 50015.1914 - mae: 50015.1914 - val_loss: 50507.5078 - val_mae: 50507.5078\n",
      "Epoch 17/100\n",
      "250/250 [==============================] - 1s 4ms/step - loss: 49978.3398 - mae: 49978.3398 - val_loss: 50498.1289 - val_mae: 50498.1289\n",
      "Epoch 18/100\n",
      "250/250 [==============================] - 1s 4ms/step - loss: 49946.4688 - mae: 49946.4688 - val_loss: 50493.4844 - val_mae: 50493.4844\n",
      "Epoch 19/100\n",
      "250/250 [==============================] - 1s 3ms/step - loss: 49920.1445 - mae: 49920.1445 - val_loss: 50484.4531 - val_mae: 50484.4531\n",
      "Epoch 20/100\n",
      "250/250 [==============================] - 1s 4ms/step - loss: 49894.8984 - mae: 49894.8984 - val_loss: 50480.1211 - val_mae: 50480.1211\n",
      "Epoch 21/100\n",
      "250/250 [==============================] - 1s 5ms/step - loss: 49871.1133 - mae: 49871.1133 - val_loss: 50474.6953 - val_mae: 50474.6953\n",
      "Epoch 22/100\n",
      "250/250 [==============================] - 1s 4ms/step - loss: 49850.9375 - mae: 49850.9375 - val_loss: 50461.5547 - val_mae: 50461.5547\n",
      "Epoch 23/100\n",
      "250/250 [==============================] - 2s 7ms/step - loss: 49832.3594 - mae: 49832.3594 - val_loss: 50440.5547 - val_mae: 50440.5547\n",
      "Epoch 24/100\n",
      "250/250 [==============================] - 1s 4ms/step - loss: 49815.7930 - mae: 49815.7930 - val_loss: 50431.0352 - val_mae: 50431.0352\n",
      "Epoch 25/100\n",
      "250/250 [==============================] - 3s 13ms/step - loss: 49794.8750 - mae: 49794.8750 - val_loss: 50427.2969 - val_mae: 50427.2969\n",
      "Epoch 26/100\n",
      "250/250 [==============================] - 1s 6ms/step - loss: 49780.5898 - mae: 49780.5898 - val_loss: 50418.9062 - val_mae: 50418.9062\n",
      "Epoch 27/100\n",
      "250/250 [==============================] - 2s 8ms/step - loss: 49765.4297 - mae: 49765.4297 - val_loss: 50412.9023 - val_mae: 50412.9023\n",
      "Epoch 28/100\n",
      "250/250 [==============================] - 1s 4ms/step - loss: 49751.0664 - mae: 49751.0664 - val_loss: 50402.6484 - val_mae: 50402.6484\n",
      "Epoch 29/100\n",
      "250/250 [==============================] - 1s 4ms/step - loss: 49734.9336 - mae: 49734.9336 - val_loss: 50402.0547 - val_mae: 50402.0547\n",
      "Epoch 30/100\n",
      "250/250 [==============================] - 1s 5ms/step - loss: 49720.2109 - mae: 49720.2109 - val_loss: 50389.8867 - val_mae: 50389.8867\n",
      "Epoch 31/100\n",
      "250/250 [==============================] - 1s 5ms/step - loss: 49705.9922 - mae: 49705.9922 - val_loss: 50383.1172 - val_mae: 50383.1172\n",
      "Epoch 32/100\n",
      "250/250 [==============================] - 1s 4ms/step - loss: 49695.5977 - mae: 49695.5977 - val_loss: 50375.2930 - val_mae: 50375.2930\n",
      "Epoch 33/100\n",
      "250/250 [==============================] - 1s 5ms/step - loss: 49685.1094 - mae: 49685.1094 - val_loss: 50378.8281 - val_mae: 50378.8281\n",
      "Epoch 34/100\n",
      "250/250 [==============================] - 1s 6ms/step - loss: 49668.7383 - mae: 49668.7383 - val_loss: 50385.1836 - val_mae: 50385.1836\n",
      "Epoch 35/100\n",
      "250/250 [==============================] - 2s 10ms/step - loss: 49658.4766 - mae: 49658.4766 - val_loss: 50378.3516 - val_mae: 50378.3516\n",
      "Epoch 36/100\n",
      "250/250 [==============================] - 1s 5ms/step - loss: 49649.7773 - mae: 49649.7773 - val_loss: 50384.8633 - val_mae: 50384.8633\n",
      "Epoch 37/100\n",
      "250/250 [==============================] - 1s 4ms/step - loss: 49636.0430 - mae: 49636.0430 - val_loss: 50391.5039 - val_mae: 50391.5039\n",
      "Epoch 38/100\n",
      "250/250 [==============================] - 1s 5ms/step - loss: 49628.0859 - mae: 49628.0859 - val_loss: 50377.7695 - val_mae: 50377.7695\n",
      "Epoch 39/100\n",
      "250/250 [==============================] - 1s 4ms/step - loss: 49615.8672 - mae: 49615.8672 - val_loss: 50385.5039 - val_mae: 50385.5039\n",
      "Epoch 40/100\n",
      "250/250 [==============================] - 1s 5ms/step - loss: 49608.8633 - mae: 49608.8633 - val_loss: 50367.6328 - val_mae: 50367.6328\n",
      "Epoch 41/100\n",
      "250/250 [==============================] - 1s 4ms/step - loss: 49598.4922 - mae: 49598.4922 - val_loss: 50369.6445 - val_mae: 50369.6445\n",
      "Epoch 42/100\n",
      "250/250 [==============================] - 1s 4ms/step - loss: 49590.0781 - mae: 49590.0781 - val_loss: 50360.8828 - val_mae: 50360.8828\n",
      "Epoch 43/100\n",
      "250/250 [==============================] - 1s 4ms/step - loss: 49583.6211 - mae: 49583.6211 - val_loss: 50361.1016 - val_mae: 50361.1016\n",
      "Epoch 44/100\n",
      "250/250 [==============================] - 1s 5ms/step - loss: 49577.1016 - mae: 49577.1016 - val_loss: 50353.9961 - val_mae: 50353.9961\n",
      "Epoch 45/100\n",
      "250/250 [==============================] - 2s 9ms/step - loss: 49567.8320 - mae: 49567.8320 - val_loss: 50354.5781 - val_mae: 50354.5781\n",
      "Epoch 46/100\n",
      "250/250 [==============================] - 1s 5ms/step - loss: 49558.2539 - mae: 49558.2539 - val_loss: 50351.3516 - val_mae: 50351.3516\n",
      "Epoch 47/100\n",
      "250/250 [==============================] - 1s 3ms/step - loss: 49555.1562 - mae: 49555.1562 - val_loss: 50357.2422 - val_mae: 50357.2422\n",
      "Epoch 48/100\n",
      "250/250 [==============================] - 1s 4ms/step - loss: 49549.7266 - mae: 49549.7266 - val_loss: 50355.4102 - val_mae: 50355.4102\n",
      "Epoch 49/100\n",
      "250/250 [==============================] - 2s 7ms/step - loss: 49539.5898 - mae: 49539.5898 - val_loss: 50353.9375 - val_mae: 50353.9375\n",
      "Epoch 50/100\n",
      "250/250 [==============================] - 2s 7ms/step - loss: 49532.4844 - mae: 49532.4844 - val_loss: 50343.8242 - val_mae: 50343.8242\n",
      "Epoch 51/100\n",
      "250/250 [==============================] - 1s 4ms/step - loss: 49526.1094 - mae: 49526.1094 - val_loss: 50346.8711 - val_mae: 50346.8711\n",
      "Epoch 52/100\n",
      "250/250 [==============================] - 1s 4ms/step - loss: 49523.6445 - mae: 49523.6445 - val_loss: 50354.3320 - val_mae: 50354.3320\n",
      "Epoch 53/100\n",
      "250/250 [==============================] - 1s 4ms/step - loss: 49514.1523 - mae: 49514.1523 - val_loss: 50355.2578 - val_mae: 50355.2578\n",
      "Epoch 54/100\n",
      "250/250 [==============================] - 1s 5ms/step - loss: 49507.4492 - mae: 49507.4492 - val_loss: 50355.8047 - val_mae: 50355.8047\n",
      "Epoch 55/100\n",
      "250/250 [==============================] - 1s 4ms/step - loss: 49503.9141 - mae: 49503.9141 - val_loss: 50363.3320 - val_mae: 50363.3320\n",
      "Epoch 56/100\n",
      "250/250 [==============================] - 2s 9ms/step - loss: 49497.0117 - mae: 49497.0117 - val_loss: 50359.0898 - val_mae: 50359.0898\n",
      "Epoch 57/100\n",
      "250/250 [==============================] - 1s 4ms/step - loss: 49489.1641 - mae: 49489.1641 - val_loss: 50365.6055 - val_mae: 50365.6055\n",
      "Epoch 58/100\n",
      "250/250 [==============================] - 1s 4ms/step - loss: 49488.5977 - mae: 49488.5977 - val_loss: 50357.3281 - val_mae: 50357.3281\n",
      "Epoch 59/100\n",
      "250/250 [==============================] - 1s 6ms/step - loss: 49480.7656 - mae: 49480.7656 - val_loss: 50366.0625 - val_mae: 50366.0625\n",
      "Epoch 60/100\n",
      "250/250 [==============================] - 3s 13ms/step - loss: 49476.9844 - mae: 49476.9844 - val_loss: 50363.9531 - val_mae: 50363.9531\n"
     ]
    }
   ],
   "source": [
    "# Train the model\n",
    "history = model.fit(\n",
    "    X_train, y_train, validation_data =(X_test, y_test), epochs=100,\n",
    "    callbacks=[tensorflow_callback, early_stopping_callback]\n",
    ")"
   ]
  },
  {
   "cell_type": "code",
   "execution_count": 26,
   "id": "00b46407",
   "metadata": {},
   "outputs": [],
   "source": [
    "# Load tensorboard extension\n",
    "%load_ext tensorboard"
   ]
  },
  {
   "cell_type": "code",
   "execution_count": 29,
   "id": "3403c1f6",
   "metadata": {},
   "outputs": [
    {
     "data": {
      "text/plain": [
       "Reusing TensorBoard on port 6006 (pid 21972), started 0:00:14 ago. (Use '!kill 21972' to kill it.)"
      ]
     },
     "metadata": {},
     "output_type": "display_data"
    },
    {
     "data": {
      "text/html": [
       "\n",
       "      <iframe id=\"tensorboard-frame-d8e17acdcd560f82\" width=\"100%\" height=\"800\" frameborder=\"0\">\n",
       "      </iframe>\n",
       "      <script>\n",
       "        (function() {\n",
       "          const frame = document.getElementById(\"tensorboard-frame-d8e17acdcd560f82\");\n",
       "          const url = new URL(\"http://localhost\");\n",
       "          const port = 6006;\n",
       "          if (port) {\n",
       "            url.port = port;\n",
       "          }\n",
       "          frame.src = url;\n",
       "        })();\n",
       "      </script>\n",
       "    "
      ],
      "text/plain": [
       "<IPython.core.display.HTML object>"
      ]
     },
     "metadata": {},
     "output_type": "display_data"
    }
   ],
   "source": [
    "%tensorboard --logdir regressionlogs/fit"
   ]
  },
  {
   "cell_type": "code",
   "execution_count": 30,
   "id": "aab0c0d1",
   "metadata": {},
   "outputs": [
    {
     "name": "stdout",
     "output_type": "stream",
     "text": [
      "63/63 [==============================] - 0s 2ms/step - loss: 50343.8242 - mae: 50343.8242\n",
      "Test Loss: 50343.82421875, Test MAE: 50343.82421875\n"
     ]
    }
   ],
   "source": [
    "# Evaluate the model on test data\n",
    "test_loss, test_mae = model.evaluate(X_test, y_test)\n",
    "print(f\"Test Loss: {test_loss}, Test MAE: {test_mae}\")"
   ]
  },
  {
   "cell_type": "code",
   "execution_count": 31,
   "id": "ff0843ac",
   "metadata": {},
   "outputs": [
    {
     "name": "stderr",
     "output_type": "stream",
     "text": [
      "f:\\MachineLearning\\ANN CLASSIFICATION\\venv\\Lib\\site-packages\\keras\\src\\engine\\training.py:3103: UserWarning: You are saving your model as an HDF5 file via `model.save()`. This file format is considered legacy. We recommend using instead the native Keras format, e.g. `model.save('my_model.keras')`.\n",
      "  saving_api.save_model(\n"
     ]
    }
   ],
   "source": [
    "model.save('regression_model.h5')"
   ]
  },
  {
   "cell_type": "code",
   "execution_count": null,
   "id": "fc305db9",
   "metadata": {},
   "outputs": [],
   "source": []
  }
 ],
 "metadata": {
  "kernelspec": {
   "display_name": "Python 3",
   "language": "python",
   "name": "python3"
  },
  "language_info": {
   "codemirror_mode": {
    "name": "ipython",
    "version": 3
   },
   "file_extension": ".py",
   "mimetype": "text/x-python",
   "name": "python",
   "nbconvert_exporter": "python",
   "pygments_lexer": "ipython3",
   "version": "3.11.0"
  }
 },
 "nbformat": 4,
 "nbformat_minor": 5
}
