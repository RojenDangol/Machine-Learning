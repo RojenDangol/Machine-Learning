{
 "cells": [
  {
   "cell_type": "markdown",
   "id": "0e194a72",
   "metadata": {},
   "source": [
    "### Class And Object"
   ]
  },
  {
   "cell_type": "code",
   "execution_count": 3,
   "id": "62522270b964d51f",
   "metadata": {},
   "outputs": [
    {
     "name": "stdout",
     "output_type": "stream",
     "text": [
      "Audi\n",
      "A4\n"
     ]
    }
   ],
   "source": [
    "class Car:\n",
    "    def __init__(self,make, model):\n",
    "        self.make = make\n",
    "        self.model = model\n",
    "\n",
    "audi = Car(\"Audi\", \"A4\")\n",
    "print(audi.make)\n",
    "print(audi.model)"
   ]
  },
  {
   "cell_type": "code",
   "execution_count": 4,
   "id": "16839e55",
   "metadata": {},
   "outputs": [
    {
     "name": "stdout",
     "output_type": "stream",
     "text": [
      "Tommy\n",
      "7\n",
      "Tommy Woof!\n"
     ]
    }
   ],
   "source": [
    "class Dog:\n",
    "    def __init__(self, name, age):\n",
    "        self.name = name\n",
    "        self.age = age\n",
    "\n",
    "    def bark(self):\n",
    "        print(f\"{self.name} Woof!\")\n",
    "\n",
    "dog1 =Dog(\"Tommy\", 7)\n",
    "print(dog1.name)\n",
    "print(dog1.age)\n",
    "\n",
    "dog1.bark()"
   ]
  },
  {
   "cell_type": "markdown",
   "id": "be065eb0",
   "metadata": {},
   "source": [
    "### Inheritance"
   ]
  },
  {
   "cell_type": "markdown",
   "id": "f2dfd9a8",
   "metadata": {},
   "source": [
    "*Single inheritance*"
   ]
  },
  {
   "cell_type": "code",
   "execution_count": 5,
   "id": "1888f5a5",
   "metadata": {},
   "outputs": [
    {
     "name": "stdout",
     "output_type": "stream",
     "text": [
      "True\n"
     ]
    }
   ],
   "source": [
    "class Animal:\n",
    "    def hasFourLegs(self):\n",
    "        return True\n",
    "    \n",
    "class dog(Animal):\n",
    "    def __init__(self, name, age):\n",
    "        self.name = name\n",
    "        self.age = age\n",
    "\n",
    "    def bark(self):\n",
    "        print(f\"{self.name} Woof!\")\n",
    "\n",
    "dog1 = dog(\"Tommy\", 7)\n",
    "print(dog1.hasFourLegs())"
   ]
  },
  {
   "cell_type": "code",
   "execution_count": 6,
   "id": "9f382585",
   "metadata": {},
   "outputs": [
    {
     "name": "stdout",
     "output_type": "stream",
     "text": [
      "The person is driving electric car\n"
     ]
    }
   ],
   "source": [
    "class Car:\n",
    "    def __init__(self, windows, door, enginetype):\n",
    "        self.windows = windows\n",
    "        self.door = door\n",
    "        self.enginetype = enginetype\n",
    "\n",
    "    def drive(self):\n",
    "        print(f\"The person is driving {self.enginetype} car\")\n",
    "\n",
    "\n",
    "car1 = Car(4, 2, \"electric\")\n",
    "car1.drive()"
   ]
  },
  {
   "cell_type": "code",
   "execution_count": 7,
   "id": "fb62a718",
   "metadata": {},
   "outputs": [],
   "source": [
    "class Tesla(Car):\n",
    "    def __init__(self, windows, door, enginetype, is_self_driving):\n",
    "        super().__init__(windows, door, enginetype)\n",
    "        self.is_self_driving = is_self_driving\n",
    "\n",
    "    def selfdriving(self):\n",
    "        if self.is_self_driving:\n",
    "            print(\"The car is self-driving\")\n",
    "        else:\n",
    "            print(\"The car is not self-driving\")"
   ]
  },
  {
   "cell_type": "code",
   "execution_count": 8,
   "id": "bb814f1e",
   "metadata": {},
   "outputs": [
    {
     "name": "stdout",
     "output_type": "stream",
     "text": [
      "The car is self-driving\n"
     ]
    }
   ],
   "source": [
    "tesla1 = Tesla(4, 2, \"electric\", True)\n",
    "tesla1.selfdriving()"
   ]
  },
  {
   "cell_type": "code",
   "execution_count": 9,
   "id": "677dc4d9",
   "metadata": {},
   "outputs": [
    {
     "name": "stdout",
     "output_type": "stream",
     "text": [
      "The person is driving electric car\n"
     ]
    }
   ],
   "source": [
    "tesla1.drive()"
   ]
  },
  {
   "cell_type": "markdown",
   "id": "dc6fd42b",
   "metadata": {},
   "source": [
    "*Multiple Inheritance*\n",
    "\n",
    "When a class inherits from more than one base class"
   ]
  },
  {
   "cell_type": "code",
   "execution_count": 10,
   "id": "a54f5a3e",
   "metadata": {},
   "outputs": [
    {
     "name": "stdout",
     "output_type": "stream",
     "text": [
      "Buddy says Woof!\n",
      "Buddy is owned by Alice\n"
     ]
    }
   ],
   "source": [
    "class Animal:\n",
    "    def __init__(self, name):\n",
    "        self.name = name\n",
    "\n",
    "    def speak(self):\n",
    "        print(\"Subclass must implement this method\")\n",
    "\n",
    "\n",
    "class Pet:\n",
    "    def __init__(self, owner):\n",
    "        self.owner = owner\n",
    "\n",
    "\n",
    "# Derived class\n",
    "class Dog(Animal, Pet):\n",
    "    def __init__(self, name, owner):\n",
    "        Animal.__init__(self, name)\n",
    "        Pet.__init__(self, owner)\n",
    "\n",
    "    def speak(self):\n",
    "        print(f\"{self.name} says Woof!\")\n",
    "\n",
    "# Create objects\n",
    "dog1 = Dog(\"Buddy\", \"Alice\")\n",
    "dog1.speak()\n",
    "print(f\"{dog1.name} is owned by {dog1.owner}\")"
   ]
  },
  {
   "cell_type": "markdown",
   "id": "d1f80365",
   "metadata": {},
   "source": [
    "### Polymorphism"
   ]
  },
  {
   "cell_type": "markdown",
   "id": "037c9774",
   "metadata": {},
   "source": [
    "**Method Overloading**"
   ]
  },
  {
   "cell_type": "code",
   "execution_count": 11,
   "id": "40dbf511",
   "metadata": {},
   "outputs": [
    {
     "name": "stdout",
     "output_type": "stream",
     "text": [
      "Woof!\n",
      "Meow!\n"
     ]
    }
   ],
   "source": [
    "# Base class\n",
    "class Animal:\n",
    "    def speak(self):\n",
    "        print(\"Sound of the animal\")\n",
    "\n",
    "# Derived class\n",
    "class Dog(Animal):\n",
    "    def speak(self):\n",
    "        print(\"Woof!\")\n",
    "\n",
    "class Cat(Animal):\n",
    "    def speak(self):\n",
    "        print(\"Meow!\")\n",
    "\n",
    "# function to demonstrate polymorphism\n",
    "def animal_sound(animal):\n",
    "    animal.speak()\n",
    "\n",
    "dog = Dog()\n",
    "cat = Cat()\n",
    "\n",
    "animal_sound(dog)\n",
    "animal_sound(cat)"
   ]
  },
  {
   "cell_type": "markdown",
   "id": "510071bb",
   "metadata": {},
   "source": [
    "### Polymorphism with functions and Methods"
   ]
  },
  {
   "cell_type": "code",
   "execution_count": 12,
   "id": "72509258",
   "metadata": {},
   "outputs": [
    {
     "name": "stdout",
     "output_type": "stream",
     "text": [
      "The area is: 50\n"
     ]
    }
   ],
   "source": [
    "# Base class\n",
    "class Shape:\n",
    "    def area(self):\n",
    "        return \"The area of the figure\"\n",
    "\n",
    "# Derived class 1\n",
    "class Rectangle(Shape):\n",
    "    def __init__(self, width, height):\n",
    "        self.width = width\n",
    "        self.height = height\n",
    "\n",
    "    def area(self):\n",
    "        return self.width * self.height\n",
    "    \n",
    "# Derived class 2\n",
    "class Circle(Shape):\n",
    "    def __init__(self, radius):\n",
    "        self.radius = radius\n",
    "\n",
    "    def area(self):\n",
    "        return 3.14 * self.radius * self.radius\n",
    "    \n",
    "# Function to demonstrate polymorphism\n",
    "def print_area(shape):\n",
    "    print(f\"The area is: {shape.area()}\")\n",
    "\n",
    "rectangle = Rectangle(5, 10)\n",
    "circle = Circle(7)\n",
    "print_area(rectangle)"
   ]
  },
  {
   "cell_type": "markdown",
   "id": "9e21baba",
   "metadata": {},
   "source": [
    "## Polymorphism with Abstract base classes\n",
    "\n",
    "ABCs are used to define common methods for a group of related objects. They can enforce that derived classes implement particular methods, promotiong consitency across different implementations."
   ]
  },
  {
   "cell_type": "code",
   "execution_count": 1,
   "id": "73e70a4e",
   "metadata": {},
   "outputs": [
    {
     "name": "stdout",
     "output_type": "stream",
     "text": [
      "Car engine started\n"
     ]
    }
   ],
   "source": [
    "from abc import ABC, abstractmethod\n",
    "\n",
    "# Define an abstract base class\n",
    "class Vehice(ABC):\n",
    "    @abstractmethod\n",
    "    def start_engine(self):\n",
    "        pass\n",
    "\n",
    "# Derived class 1\n",
    "class Car(Vehice):\n",
    "    def start_engine(self):\n",
    "        print(\"Car engine started\")\n",
    "\n",
    "# Derived class 2\n",
    "class Motorcycle(Vehice):\n",
    "    def start_engine(self):\n",
    "        print(\"Motorcycle engine started\")\n",
    "\n",
    "def start_vehicle(vehicle):\n",
    "    vehicle.start_engine() \n",
    "\n",
    "# Create objects\n",
    "car = Car()\n",
    "motorcycle = Motorcycle()\n",
    "\n",
    "start_vehicle(car)"
   ]
  },
  {
   "cell_type": "markdown",
   "id": "2c3aa293",
   "metadata": {},
   "source": [
    "## Encapsulation and Abstraction\n",
    "\n",
    "### Encapsulation\n",
    "\n",
    "concept of erapping data (variables) and methods together as a single unit.\n",
    "Encapsulation with getter and setter variables\n",
    "Public, protected, private variables"
   ]
  },
  {
   "cell_type": "code",
   "execution_count": 2,
   "id": "1e062476",
   "metadata": {},
   "outputs": [
    {
     "data": {
      "text/plain": [
       "'John'"
      ]
     },
     "execution_count": 2,
     "metadata": {},
     "output_type": "execute_result"
    }
   ],
   "source": [
    "class Person:\n",
    "    \n",
    "    def __init__(self, name, age):\n",
    "        self.name = name # public variable\n",
    "        self.age = age\n",
    "\n",
    "def get_name(person):\n",
    "    return person.name\n",
    "\n",
    "person = Person(\"John\", 30)\n",
    "get_name(person)"
   ]
  },
  {
   "cell_type": "code",
   "execution_count": 3,
   "id": "b845dea0",
   "metadata": {},
   "outputs": [],
   "source": [
    "class Person:\n",
    "    \n",
    "    def __init__(self, name, age, gender):\n",
    "        self.__name = name # private variable\n",
    "        self.__age = age\n",
    "        self.gender = gender\n",
    "\n",
    "def get_name(person):\n",
    "    return person.__name\n",
    "\n",
    "person = Person(\"John\", 30, 'M')\n",
    "# get_name(person)"
   ]
  },
  {
   "cell_type": "markdown",
   "id": "947e1529",
   "metadata": {},
   "source": [
    "Protected variables can be accessed within the class and derived class only not outside"
   ]
  },
  {
   "cell_type": "code",
   "execution_count": 4,
   "id": "4110797d",
   "metadata": {},
   "outputs": [
    {
     "name": "stdout",
     "output_type": "stream",
     "text": [
      "John\n"
     ]
    }
   ],
   "source": [
    "class Person:\n",
    "    \n",
    "    def __init__(self, name, age, gender):\n",
    "        self._name = name # protected variable\n",
    "        self._age = age\n",
    "        self.gender = gender\n",
    "\n",
    "class Employee(Person):\n",
    "    def __init__(self, name, age, gender):\n",
    "        super().__init__(name, age, gender)\n",
    "\n",
    "\n",
    "employee = Employee(\"John\", 30, 'M')\n",
    "print(employee._name)"
   ]
  },
  {
   "cell_type": "markdown",
   "id": "890a9f12",
   "metadata": {},
   "source": [
    "### Encapsulation with Getter and Setter"
   ]
  },
  {
   "cell_type": "code",
   "execution_count": 17,
   "id": "da10d730",
   "metadata": {},
   "outputs": [
    {
     "name": "stdout",
     "output_type": "stream",
     "text": [
      "John\n",
      "Doe\n"
     ]
    }
   ],
   "source": [
    "class Person:\n",
    "    def __init__(self, name, age):\n",
    "        self.__name = name\n",
    "        self.__age = age\n",
    "    \n",
    "    # Getter for name\n",
    "    def get_name(self):\n",
    "        return self.__name\n",
    "    \n",
    "    # setter for name\n",
    "    def set_name(self, name):\n",
    "        self.__name = name\n",
    "\n",
    "    def get_age(self):\n",
    "        return self.__age\n",
    "    \n",
    "    def set_age(self, age):\n",
    "        if age > 0:\n",
    "            self.__age = age\n",
    "        else:\n",
    "            print(\"Age must be positive\")\n",
    "\n",
    "\n",
    "person = Person(\"John\", 30)\n",
    "\n",
    "# Access and modify private variables using getter and setter\n",
    "print(person.get_name())\n",
    "\n",
    "person.set_name(\"Doe\")\n",
    "print(person.get_name())"
   ]
  },
  {
   "cell_type": "markdown",
   "id": "67caf948",
   "metadata": {},
   "source": [
    "## Abstraction"
   ]
  },
  {
   "cell_type": "code",
   "execution_count": 18,
   "id": "c9c0b0c6",
   "metadata": {},
   "outputs": [
    {
     "name": "stdout",
     "output_type": "stream",
     "text": [
      "Car engine started\n",
      "The vehicle is used for transportation\n"
     ]
    }
   ],
   "source": [
    "from abc import ABC, abstractmethod\n",
    "\n",
    "class Vehice(ABC):\n",
    "    def drive(self):\n",
    "        print(\"The vehicle is used for transportation\")\n",
    "\n",
    "    @abstractmethod\n",
    "    def start_engine(self):\n",
    "        pass\n",
    "\n",
    "class Car(Vehice):\n",
    "    def start_engine(self):\n",
    "        print(\"Car engine started\")\n",
    "\n",
    "def operate_vehicle(vehicle):\n",
    "    vehicle.start_engine()\n",
    "    vehicle.drive()\n",
    "\n",
    "car = Car()\n",
    "operate_vehicle(car)"
   ]
  },
  {
   "cell_type": "markdown",
   "id": "97fba07c",
   "metadata": {},
   "source": [
    "## Magic Methods\n",
    "\n",
    "Also know as dunder methods (double underscore methods), are special methods that start and end with double underscores.\n",
    "\n",
    "__init__\n",
    "\n",
    "__str__\n",
    "\n",
    "__len__\n",
    "\n",
    "__getitem__\n",
    "\n",
    "__setitem__\n",
    "\n",
    "__repr__ : returns official string representation of an object\n"
   ]
  },
  {
   "cell_type": "code",
   "execution_count": null,
   "id": "febc0cfc",
   "metadata": {},
   "outputs": [
    {
     "name": "stdout",
     "output_type": "stream",
     "text": [
      "Person(Name: Alice, Age: 25)\n",
      "Alice, 25 years old\n"
     ]
    }
   ],
   "source": [
    "class Person:\n",
    "    def __init__(self, name, age):\n",
    "        self.name = name\n",
    "        self.age = age\n",
    "\n",
    "    def __str__(self):\n",
    "        return f\"{self.name}, {self.age} years old\"\n",
    "    \n",
    "    def __repr__(self):\n",
    "        return f\"Person(Name: {self.name}, Age: {self.age})\"\n",
    "    \n",
    "person = Person(\"Alice\", 25)\n",
    "print(person)\n",
    "print(repr(person))"
   ]
  },
  {
   "cell_type": "markdown",
   "id": "de479119",
   "metadata": {},
   "source": [
    "## Operator Overloader"
   ]
  },
  {
   "cell_type": "code",
   "execution_count": 21,
   "id": "cd9a25a6",
   "metadata": {},
   "outputs": [
    {
     "name": "stdout",
     "output_type": "stream",
     "text": [
      "Vector(6, 8)\n",
      "Vector(-2, -2)\n",
      "Vector(8, 15)\n"
     ]
    }
   ],
   "source": [
    "class Vector:\n",
    "    def __init__(self, x, y):\n",
    "        self.x = x\n",
    "        self.y = y\n",
    "\n",
    "    def __add__(self, other):\n",
    "        return Vector(self.x + other.x, self.y + other.y)\n",
    "    \n",
    "    def __sub__(self, other):\n",
    "        return Vector(self.x - other.x, self.y - other.y)\n",
    "    \n",
    "    def __mul__(self, other):\n",
    "        return Vector(self.x * other.x, self.y * other.y)\n",
    "    \n",
    "    def __eq__(self, other):\n",
    "        return Vector(self.x == other.x and self.y == other.y)\n",
    "    \n",
    "    def __repr__(self):\n",
    "        return f\"Vector({self.x}, {self.y})\"\n",
    "    \n",
    "v1 = Vector(2, 3)\n",
    "v2 = Vector(4, 5)\n",
    "print(v1 + v2)  \n",
    "print(v1 - v2)\n",
    "print(v1 * v2)\n"
   ]
  },
  {
   "cell_type": "code",
   "execution_count": null,
   "id": "856b94e7",
   "metadata": {},
   "outputs": [],
   "source": [
    " "
   ]
  }
 ],
 "metadata": {
  "kernelspec": {
   "display_name": "venv",
   "language": "python",
   "name": "python3"
  },
  "language_info": {
   "codemirror_mode": {
    "name": "ipython",
    "version": 3
   },
   "file_extension": ".py",
   "mimetype": "text/x-python",
   "name": "python",
   "nbconvert_exporter": "python",
   "pygments_lexer": "ipython3",
   "version": "3.12.0"
  }
 },
 "nbformat": 4,
 "nbformat_minor": 5
}
